{
 "cells": [
  {
   "cell_type": "code",
   "execution_count": 76,
   "metadata": {
    "collapsed": true
   },
   "outputs": [],
   "source": [
    "import pandas as pd\n",
    "from sklearn.model_selection import train_test_split\n",
    "from sklearn.model_selection import cross_val_score\n",
    "from sklearn.svm import LinearSVC\n",
    "from sklearn.ensemble import RandomForestClassifier\n",
    "pd.set_option('display.max_columns', None)\n",
    "pd.set_option('display.max_colwidth', None)"
   ]
  },
  {
   "cell_type": "code",
   "execution_count": 74,
   "outputs": [],
   "source": [
    "all_df = pd.read_csv('../data/cleanLOF.csv')\n",
    "X = all_df.values[:, :all_df.shape[1] - 1]\n",
    "y = [1 if y == 'malware' else 0 for y in all_df.values[:, all_df.shape[1] - 1]]\n",
    "X_train, X_test, y_train, y_test = train_test_split(X, y, test_size=0.4, random_state=0)"
   ],
   "metadata": {
    "collapsed": false
   }
  },
  {
   "cell_type": "code",
   "execution_count": 75,
   "outputs": [
    {
     "name": "stdout",
     "output_type": "stream",
     "text": [
      "score on train: 0.9701244813278008\n",
      "score on test: 0.9589296826384568\n",
      "Cross validation got 0.97 accuracy with a standard deviation of 0.02\n"
     ]
    }
   ],
   "source": [
    "svm = LinearSVC(C = 0.00001, class_weight='balanced')\n",
    "svm.fit(X_train, y_train)\n",
    "print(\"score on train: \"+ str(svm.score(X_train, y_train)))\n",
    "print(\"score on test: \"+ str(svm.score(X_test, y_test)))\n",
    "\n",
    "scores = cross_val_score(svm, X, y, cv=5)\n",
    "\n",
    "print(\"Cross validation got %0.2f accuracy with a standard deviation of %0.2f\" % (scores.mean(), scores.std()))"
   ],
   "metadata": {
    "collapsed": false
   }
  }
 ],
 "metadata": {
  "kernelspec": {
   "display_name": "Python 3",
   "language": "python",
   "name": "python3"
  },
  "language_info": {
   "codemirror_mode": {
    "name": "ipython",
    "version": 2
   },
   "file_extension": ".py",
   "mimetype": "text/x-python",
   "name": "python",
   "nbconvert_exporter": "python",
   "pygments_lexer": "ipython2",
   "version": "2.7.6"
  }
 },
 "nbformat": 4,
 "nbformat_minor": 0
}
